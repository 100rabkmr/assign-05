{
 "cells": [
  {
   "cell_type": "raw",
   "id": "09d3d32d",
   "metadata": {},
   "source": [
    "1. What does an empty dictionary's code look like?\n",
    "\n",
    "\n",
    "\n",
    "ans).        Two curly brackets: {}"
   ]
  },
  {
   "cell_type": "raw",
   "id": "f07d7fe3",
   "metadata": {},
   "source": [
    "2. What is the value of a dictionary value with the key 'foo' and the value 42?\n",
    "\n",
    "ans)             {'foo': 42}"
   ]
  },
  {
   "cell_type": "raw",
   "id": "12d27985",
   "metadata": {},
   "source": [
    "3. What is the most significant distinction between a dictionary and a list?\n",
    "\n",
    "\n",
    "ans)   The items stored in a dictionary are unordered, while the items in a list are ordered."
   ]
  },
  {
   "cell_type": "raw",
   "id": "e865d65f",
   "metadata": {},
   "source": [
    "4. What happens if you try to access spam['foo'] if spam is {'bar' 100}?\n",
    "\n",
    "\n",
    "ans)          You get a KeyError error."
   ]
  },
  {
   "cell_type": "raw",
   "id": "08e0d5d4",
   "metadata": {},
   "source": [
    "5. If a dictionary is stored in spam, what is the difference between the expressions 'cat' in spam and 'cat'\n",
    "                         in spam.keys()?\n",
    "    \n",
    "    \n",
    "ans)       There is no difference. The in operator checks whether a value exists as a key in the dictionary.\n",
    "                    If a dictionary is stored in spam, \n",
    "                what is the difference between the expressions 'cat' in spam and 'cat' in spam.keys()?"
   ]
  },
  {
   "cell_type": "raw",
   "id": "7c2730e7",
   "metadata": {},
   "source": [
    "7. What is a shortcut for the following code?\n",
    "       if 'color' not in spam:\n",
    "        spam['color'] = 'black'\n",
    "\n",
    "\n",
    "\n",
    "\n",
    "ans)     spam.setdefault('color', 'black')"
   ]
  },
  {
   "cell_type": "raw",
   "id": "6277dcfc",
   "metadata": {},
   "source": [
    "8. How do you \"pretty print\" dictionary values using which module and function?\n",
    "\n",
    "\n",
    "\n",
    "ans)            pprint.pprint()"
   ]
  }
 ],
 "metadata": {
  "kernelspec": {
   "display_name": "Python 3 (ipykernel)",
   "language": "python",
   "name": "python3"
  },
  "language_info": {
   "codemirror_mode": {
    "name": "ipython",
    "version": 3
   },
   "file_extension": ".py",
   "mimetype": "text/x-python",
   "name": "python",
   "nbconvert_exporter": "python",
   "pygments_lexer": "ipython3",
   "version": "3.11.7"
  }
 },
 "nbformat": 4,
 "nbformat_minor": 5
}
